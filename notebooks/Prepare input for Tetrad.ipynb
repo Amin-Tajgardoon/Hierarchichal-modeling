{
 "cells": [
  {
   "cell_type": "code",
   "execution_count": 283,
   "metadata": {
    "collapsed": true
   },
   "outputs": [],
   "source": [
    "import numpy as np\n",
    "import pandas as pd\n",
    "%matplotlib inline\n",
    "import matplotlib"
   ]
  },
  {
   "cell_type": "code",
   "execution_count": 267,
   "metadata": {
    "collapsed": false
   },
   "outputs": [],
   "source": [
    "targets = pd.read_csv(\"../data/targets.csv\", index_col=0)"
   ]
  },
  {
   "cell_type": "markdown",
   "metadata": {},
   "source": [
    "### add prefix to target columns"
   ]
  },
  {
   "cell_type": "code",
   "execution_count": 269,
   "metadata": {
    "collapsed": false
   },
   "outputs": [],
   "source": [
    "t_cols = targets.columns.tolist()\n",
    "t_cols = ['target_' + c for c in t_cols]\n",
    "targets.columns = t_cols"
   ]
  },
  {
   "cell_type": "markdown",
   "metadata": {},
   "source": [
    "### merge features and targets, without physicians data, no imputation"
   ]
  },
  {
   "cell_type": "code",
   "execution_count": 270,
   "metadata": {
    "collapsed": false
   },
   "outputs": [],
   "source": [
    "features = pd.read_csv(\"../data/all_features_178_patients.csv\", index_col=0)\n",
    "\n",
    "df = features.join(targets)\n",
    "\n",
    "df.to_csv('../data/all_data_no_phys.csv', index=True)"
   ]
  },
  {
   "cell_type": "markdown",
   "metadata": {},
   "source": [
    "### impute the merged data\n",
    "### fill missing features with average\n",
    "### fill missing targets with mode"
   ]
  },
  {
   "cell_type": "code",
   "execution_count": 271,
   "metadata": {
    "collapsed": true
   },
   "outputs": [],
   "source": [
    "f2 = features.fillna(features.mean())\n",
    "\n",
    "targets.dropna('columns', how='all', inplace=True)\n",
    "\n",
    "t2 = targets.apply(lambda x: x.fillna(x.mode()[0]))"
   ]
  },
  {
   "cell_type": "code",
   "execution_count": 272,
   "metadata": {
    "collapsed": true
   },
   "outputs": [],
   "source": [
    "### replace white and special characters\n",
    "### tetrad supports only alphanumeric and a few other characters like - and _\n",
    "f_cols = f2.columns\n",
    "f_cols = f_cols.str.replace('\\s+', '_', regex=True)\n",
    "f_cols = f_cols.str.replace('\\W', '-SC-', regex=True)\n",
    "# f_cols = f_cols.str.replace('\\d', '-D-', regex=True)\n",
    "\n",
    "f2.columns = f_cols\n",
    "\n",
    "t2_cols = t2.columns\n",
    "t2_cols = t2_cols.str.replace('\\s+', '_', regex=True)\n",
    "t2_cols = t2_cols.str.replace('\\W', '-SC-', regex=True)\n",
    "# t2_cols = t2_cols.str.replace('\\d', '-D-', regex=True)\n",
    "\n",
    "t2.columns = t2_cols"
   ]
  },
  {
   "cell_type": "code",
   "execution_count": 273,
   "metadata": {
    "collapsed": true
   },
   "outputs": [],
   "source": [
    "df = f2.join(t2)\n",
    "\n",
    "df.to_csv(\"../data/all_data_no_phys_imputed.csv\")"
   ]
  },
  {
   "cell_type": "markdown",
   "metadata": {},
   "source": [
    "### write modified columns names to file"
   ]
  },
  {
   "cell_type": "code",
   "execution_count": 240,
   "metadata": {
    "collapsed": false
   },
   "outputs": [],
   "source": [
    "with open('../data/feature_names_tetrad.txt', 'w') as f:\n",
    "    f.write(' '.join(f2.columns.tolist()))\n",
    "\n",
    "with open('../data/target_names_tetrad.txt', 'w') as f:\n",
    "    f.write(' '.join(t2.columns.tolist()))"
   ]
  },
  {
   "cell_type": "markdown",
   "metadata": {},
   "source": [
    "### drop columns with no variance"
   ]
  },
  {
   "cell_type": "code",
   "execution_count": 241,
   "metadata": {
    "collapsed": true
   },
   "outputs": [],
   "source": [
    "var = df.var(axis=0)"
   ]
  },
  {
   "cell_type": "code",
   "execution_count": 242,
   "metadata": {
    "collapsed": false
   },
   "outputs": [
    {
     "data": {
      "text/plain": [
       "count    2.023200e+04\n",
       "mean     1.565820e+07\n",
       "std      8.714454e+08\n",
       "min      0.000000e+00\n",
       "25%      0.000000e+00\n",
       "50%      2.816601e-03\n",
       "75%      6.783239e-01\n",
       "max      6.888025e+10\n",
       "dtype: float64"
      ]
     },
     "execution_count": 242,
     "metadata": {},
     "output_type": "execute_result"
    }
   ],
   "source": [
    "var.describe()"
   ]
  },
  {
   "cell_type": "code",
   "execution_count": 243,
   "metadata": {
    "collapsed": false
   },
   "outputs": [
    {
     "data": {
      "text/plain": [
       "8262"
      ]
     },
     "execution_count": 243,
     "metadata": {},
     "output_type": "execute_result"
    }
   ],
   "source": [
    "## sum of cols with var == 0\n",
    "(var == 0).sum()"
   ]
  },
  {
   "cell_type": "code",
   "execution_count": 244,
   "metadata": {
    "collapsed": false
   },
   "outputs": [
    {
     "data": {
      "text/plain": [
       "284"
      ]
     },
     "execution_count": 244,
     "metadata": {},
     "output_type": "execute_result"
    }
   ],
   "source": [
    "## total targets with var == 0\n",
    "df.columns[var == 0].str.contains('target_').sum()"
   ]
  },
  {
   "cell_type": "code",
   "execution_count": 247,
   "metadata": {
    "collapsed": true
   },
   "outputs": [],
   "source": [
    "df2 = df.loc[:, df.columns[var != 0]]"
   ]
  },
  {
   "cell_type": "code",
   "execution_count": 248,
   "metadata": {
    "collapsed": false
   },
   "outputs": [],
   "source": [
    "df2.to_csv('../data/all_data_no_phys_imputed_nonzeroVariance.csv')"
   ]
  },
  {
   "cell_type": "code",
   "execution_count": 249,
   "metadata": {
    "collapsed": true
   },
   "outputs": [],
   "source": [
    "with open('../data/feature_names_tetrad_nonZeroVar.txt', 'w') as f:\n",
    "    f.write(' '.join(df2.columns[df2.columns.isin(f2.columns)].tolist()))\n",
    "\n",
    "with open('../data/target_names_tetrad_nonZeroVar.txt', 'w') as f:\n",
    "    f.write(' '.join(df2.columns[df2.columns.isin(t2.columns)].tolist()))"
   ]
  },
  {
   "cell_type": "markdown",
   "metadata": {},
   "source": [
    "### Missing values stat"
   ]
  },
  {
   "cell_type": "code",
   "execution_count": 250,
   "metadata": {
    "collapsed": false
   },
   "outputs": [
    {
     "data": {
      "text/plain": [
       "count    19807.000000\n",
       "mean        96.773565\n",
       "std         81.150797\n",
       "min          0.000000\n",
       "25%          0.000000\n",
       "50%        144.000000\n",
       "75%        175.000000\n",
       "max        177.000000\n",
       "dtype: float64"
      ]
     },
     "execution_count": 250,
     "metadata": {},
     "output_type": "execute_result"
    }
   ],
   "source": [
    "features.isnull().sum().describe()"
   ]
  },
  {
   "cell_type": "code",
   "execution_count": 251,
   "metadata": {
    "collapsed": false
   },
   "outputs": [
    {
     "data": {
      "text/plain": [
       "count    430.000000\n",
       "mean     139.048837\n",
       "std       52.491224\n",
       "min        0.000000\n",
       "25%      130.250000\n",
       "50%      165.000000\n",
       "75%      174.000000\n",
       "max      177.000000\n",
       "dtype: float64"
      ]
     },
     "execution_count": 251,
     "metadata": {},
     "output_type": "execute_result"
    }
   ],
   "source": [
    "targets.isnull().sum().describe()"
   ]
  },
  {
   "cell_type": "markdown",
   "metadata": {},
   "source": [
    "\n",
    "### #samples per target"
   ]
  },
  {
   "cell_type": "code",
   "execution_count": 276,
   "metadata": {
    "collapsed": true
   },
   "outputs": [],
   "source": [
    "targets = pd.read_csv(\"../data/targets.csv\", index_col=0)\n",
    "\n",
    "target_samples = targets.notnull().sum()\n",
    "\n",
    "target_samples.name = '#samples'\n",
    "\n",
    "target_samples.index.name = 'target'\n",
    "\n",
    "target_samples.to_csv(\"../data/target_sampleSize.csv\",header=True)\n",
    "\n",
    "target_samples.describe()"
   ]
  },
  {
   "cell_type": "code",
   "execution_count": null,
   "metadata": {
    "collapsed": true
   },
   "outputs": [],
   "source": []
  }
 ],
 "metadata": {
  "anaconda-cloud": {},
  "kernelspec": {
   "display_name": "Python [Anaconda3]",
   "language": "python",
   "name": "Python [Anaconda3]"
  },
  "language_info": {
   "codemirror_mode": {
    "name": "ipython",
    "version": 3
   },
   "file_extension": ".py",
   "mimetype": "text/x-python",
   "name": "python",
   "nbconvert_exporter": "python",
   "pygments_lexer": "ipython3",
   "version": "3.5.5"
  }
 },
 "nbformat": 4,
 "nbformat_minor": 0
}
