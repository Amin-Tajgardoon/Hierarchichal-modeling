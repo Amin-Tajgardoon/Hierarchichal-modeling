{
 "cells": [
  {
   "cell_type": "code",
   "execution_count": 201,
   "metadata": {
    "collapsed": true
   },
   "outputs": [],
   "source": [
    "import pandas as pd\n",
    "import numpy as np\n",
    "from sklearn.linear_model import LogisticRegression\n",
    "from sklearn.metrics import roc_curve\n",
    "from sklearn.model_selection import cross_validate, cross_val_score, StratifiedKFold\n",
    "from sklearn.feature_selection import RFECV, f_classif\n",
    "from sklearn.pipeline import Pipeline\n",
    "from sklearn.preprocessing import Imputer\n",
    "from functools import reduce"
   ]
  },
  {
   "cell_type": "code",
   "execution_count": 68,
   "metadata": {
    "collapsed": true
   },
   "outputs": [],
   "source": [
    "def impute(X, method):\n",
    "    \"\"\"\n",
    "    impute missing values with mean or median\n",
    "    \n",
    "    parameters\n",
    "    -----------\n",
    "    X : Pandas Dataframe\n",
    "    method: String for imputation method. supports 'mean' and 'median'.\n",
    "    \"\"\"\n",
    "    if method == 'mean':\n",
    "        return X.apply(lambda x: x.fillna(x.mean()))\n",
    "    elif method == 'median':\n",
    "        return X.apply(lambda x: x.fillna(x.median()))\n",
    "    else:\n",
    "        raise 'unsupported method'"
   ]
  },
  {
   "cell_type": "code",
   "execution_count": 165,
   "metadata": {
    "collapsed": true
   },
   "outputs": [],
   "source": [
    "def cross_validate_and_impute(model, X, y, n_folds, scoring_metric, impute_method, random_state):\n",
    "    \"\"\"\n",
    "    evaluates the model by cross validation, imputes missing values within cross-validation iterations\n",
    "    \"\"\"\n",
    "    estimator = Pipeline([('imputer', Imputer(strategy=impute_method)), ('model', model)])\n",
    "    cv = StratifiedKFold(n_splits = n_folds, shuffle=False, random_state = random_state)\n",
    "    scores = cross_val_score(estimator, X, y, scoring = scoring_metric, cv = cv)\n",
    "    return scores"
   ]
  },
  {
   "cell_type": "code",
   "execution_count": 46,
   "metadata": {
    "collapsed": true
   },
   "outputs": [],
   "source": [
    "def determine_attribute_sets(d_names):\n",
    "    \"\"\"\n",
    "    Determine unique attribute types and expanded sets\n",
    "    \"\"\"\n",
    "    attribute_types = []  # unique attribute root name\n",
    "    for name in d_names:\n",
    "        if name.split('_')[0] not in attribute_types:\n",
    "            attribute_types.append(name.split('_')[0])\n",
    "\n",
    "    d_sets_of_attributes = []  # expanded set of an attribute\n",
    "    d_names_for_attribute_sets = []  # names for each attribute in an expanded set\n",
    "    for attribute_type in attribute_types:\n",
    "        curr_attribute_columns = []\n",
    "        curr_attribute_names = []\n",
    "        for idx, name in enumerate(d_names):\n",
    "            if name.split('_')[0] == attribute_type:\n",
    "                curr_attribute_columns.append(idx)\n",
    "                curr_attribute_names.append(name)\n",
    "\n",
    "        d_sets_of_attributes.append(curr_attribute_columns)\n",
    "        d_names_for_attribute_sets.append(curr_attribute_names)\n",
    "\n",
    "    return [d_sets_of_attributes, d_names_for_attribute_sets]\n"
   ]
  },
  {
   "cell_type": "code",
   "execution_count": 161,
   "metadata": {
    "collapsed": false
   },
   "outputs": [],
   "source": [
    "def staged_feature_inclusion(X, y, sets_of_attributes, models_to_use, random_state):\n",
    "    \"\"\"\n",
    "    This function runs staged_feature_inclusion method of feature selection. \n",
    "    It is intended for use when muliple features are constructed from a single variable.\n",
    "    E.g., a time searies of heart rate measurements espanded into min, max, slopes, etc.\n",
    "    The base variable must start the variable name and be underscore separated \n",
    "    (e.g., heatrate_max_value and heartrate_most_recent_value).\n",
    "\n",
    "    sets_of_attributes is the first returned item from determine_attribute_sets()\n",
    "    \"\"\"\n",
    "#     print(out_file)\n",
    "#     out_f = open(out_file, 'w')\n",
    "    models = {}\n",
    "    models['lr'] = LogisticRegression(penalty='l2', random_state= random_state)\n",
    "#     models['sv'] = SVC(C=1, probability=True, random_state=random_state)\n",
    "#     models['rf'] = clf_rf = RandomForestClassifier(random_state=random_state)\n",
    "    for model_name in models_to_use:\n",
    "        informative_attributes = []\n",
    "        rfecv = RFECV(estimator=models[model_name], step=1, scoring='roc_auc')\n",
    "        # determine keep columns\n",
    "        for idx_of_attributes in sets_of_attributes:\n",
    "            x_current = X.iloc[:, idx_of_attributes]\n",
    "#             try:\n",
    "            # ## determine staged inclusion for even rows\n",
    "            #scores = cross_validate(models[model_name], x_current, y, cv=3, scoring='roc_auc', return_train_score=False)\n",
    "            scores = cross_validate_and_impute(models[model_name], x_current, y, n_folds=3,\n",
    "                                               scoring_metric='roc_auc', impute_method = 'mean', random_state= random_state)\n",
    "            if scores.mean() > 0.55:  # determine if set should be kept\n",
    "                rfecv.fit(x_current, y)  # recursive feature elimination\n",
    "                if rfecv.grid_scores_.mean() > 0.6:\n",
    "                    informative_attributes += list(np.array(idx_of_attributes)[rfecv.support_])\n",
    "                    # ^keep most important features\n",
    "#             except (ValueError, IndexError):\n",
    "#                 pass\n",
    "    return informative_attributes\n"
   ]
  },
  {
   "cell_type": "code",
   "execution_count": 158,
   "metadata": {
    "collapsed": true
   },
   "outputs": [],
   "source": [
    "out_file = '..\\output\\selected_features.txt'"
   ]
  },
  {
   "cell_type": "code",
   "execution_count": 228,
   "metadata": {
    "collapsed": true
   },
   "outputs": [],
   "source": [
    "features = pd.read_csv(\"../data/all_features_178_patients.csv\", index_col=0)"
   ]
  },
  {
   "cell_type": "code",
   "execution_count": 230,
   "metadata": {
    "collapsed": false
   },
   "outputs": [
    {
     "data": {
      "text/plain": [
       "(178, 19807)"
      ]
     },
     "execution_count": 230,
     "metadata": {},
     "output_type": "execute_result"
    }
   ],
   "source": [
    "features.shape"
   ]
  },
  {
   "cell_type": "code",
   "execution_count": 229,
   "metadata": {
    "collapsed": true
   },
   "outputs": [],
   "source": [
    "targets = pd.read_csv(\"../data/targets.csv\")"
   ]
  },
  {
   "cell_type": "code",
   "execution_count": 231,
   "metadata": {
    "collapsed": true
   },
   "outputs": [],
   "source": [
    "target_grps = [['K', 'CL', 'CO2', 'NA'],\n",
    "               ['CREAT', 'BUN'],\n",
    "               ['INR', 'PT']]"
   ]
  },
  {
   "cell_type": "code",
   "execution_count": 232,
   "metadata": {
    "collapsed": false
   },
   "outputs": [],
   "source": [
    "labels = []\n",
    "for grp in target_grps:\n",
    "    labels += [l for l in grp] "
   ]
  },
  {
   "cell_type": "code",
   "execution_count": 233,
   "metadata": {
    "collapsed": false
   },
   "outputs": [
    {
     "name": "stdout",
     "output_type": "stream",
     "text": [
      "target= K\n",
      "features dimension= (177, 19756)\n",
      "#selected features= 731\n",
      "########################################\n"
     ]
    },
    {
     "name": "stderr",
     "output_type": "stream",
     "text": [
      "C:\\Users\\mot16\\AppData\\Local\\Continuum\\Anaconda3\\lib\\site-packages\\sklearn\\feature_selection\\univariate_selection.py:113: UserWarning: Features [   11    18    21 ... 19706 19709 19746] are constant.\n",
      "  UserWarning)\n",
      "C:\\Users\\mot16\\AppData\\Local\\Continuum\\Anaconda3\\lib\\site-packages\\sklearn\\feature_selection\\univariate_selection.py:114: RuntimeWarning: divide by zero encountered in true_divide\n",
      "  f = msb / msw\n",
      "C:\\Users\\mot16\\AppData\\Local\\Continuum\\Anaconda3\\lib\\site-packages\\sklearn\\feature_selection\\univariate_selection.py:114: RuntimeWarning: invalid value encountered in true_divide\n",
      "  f = msb / msw\n",
      "C:\\Users\\mot16\\AppData\\Local\\Continuum\\Anaconda3\\lib\\site-packages\\ipykernel\\__main__.py:24: RuntimeWarning: invalid value encountered in less\n"
     ]
    },
    {
     "name": "stdout",
     "output_type": "stream",
     "text": [
      "target= CL\n",
      "features dimension= (177, 19756)\n",
      "#selected features= 777\n",
      "########################################\n"
     ]
    },
    {
     "name": "stderr",
     "output_type": "stream",
     "text": [
      "C:\\Users\\mot16\\AppData\\Local\\Continuum\\Anaconda3\\lib\\site-packages\\sklearn\\feature_selection\\univariate_selection.py:113: UserWarning: Features [   11    18    21 ... 19693 19706 19709] are constant.\n",
      "  UserWarning)\n"
     ]
    },
    {
     "name": "stdout",
     "output_type": "stream",
     "text": [
      "target= CO2\n",
      "features dimension= (177, 19756)\n",
      "#selected features= 796\n",
      "########################################\n"
     ]
    },
    {
     "name": "stderr",
     "output_type": "stream",
     "text": [
      "C:\\Users\\mot16\\AppData\\Local\\Continuum\\Anaconda3\\lib\\site-packages\\sklearn\\feature_selection\\univariate_selection.py:113: UserWarning: Features [   11    18    21 ... 19693 19706 19709] are constant.\n",
      "  UserWarning)\n"
     ]
    },
    {
     "name": "stdout",
     "output_type": "stream",
     "text": [
      "target= NA\n",
      "features dimension= (177, 19756)\n",
      "#selected features= 896\n",
      "########################################\n"
     ]
    },
    {
     "name": "stderr",
     "output_type": "stream",
     "text": [
      "C:\\Users\\mot16\\AppData\\Local\\Continuum\\Anaconda3\\lib\\site-packages\\sklearn\\feature_selection\\univariate_selection.py:113: UserWarning: Features [   11    18    21 ... 19693 19706 19709] are constant.\n",
      "  UserWarning)\n"
     ]
    },
    {
     "name": "stdout",
     "output_type": "stream",
     "text": [
      "target= CREAT\n",
      "features dimension= (176, 19717)\n",
      "#selected features= 833\n",
      "########################################\n"
     ]
    },
    {
     "name": "stderr",
     "output_type": "stream",
     "text": [
      "C:\\Users\\mot16\\AppData\\Local\\Continuum\\Anaconda3\\lib\\site-packages\\sklearn\\feature_selection\\univariate_selection.py:113: UserWarning: Features [   11    18    21 ... 19654 19667 19670] are constant.\n",
      "  UserWarning)\n"
     ]
    },
    {
     "name": "stdout",
     "output_type": "stream",
     "text": [
      "target= BUN\n",
      "features dimension= (176, 19717)\n",
      "#selected features= 635\n",
      "########################################\n"
     ]
    },
    {
     "name": "stderr",
     "output_type": "stream",
     "text": [
      "C:\\Users\\mot16\\AppData\\Local\\Continuum\\Anaconda3\\lib\\site-packages\\sklearn\\feature_selection\\univariate_selection.py:113: UserWarning: Features [   11    18    21 ... 19667 19670 19689] are constant.\n",
      "  UserWarning)\n"
     ]
    },
    {
     "name": "stdout",
     "output_type": "stream",
     "text": [
      "target= INR\n",
      "features dimension= (125, 18828)\n",
      "#selected features= 735\n",
      "########################################\n"
     ]
    },
    {
     "name": "stderr",
     "output_type": "stream",
     "text": [
      "C:\\Users\\mot16\\AppData\\Local\\Continuum\\Anaconda3\\lib\\site-packages\\sklearn\\feature_selection\\univariate_selection.py:113: UserWarning: Features [   11    18    21 ... 18767 18780 18783] are constant.\n",
      "  UserWarning)\n"
     ]
    },
    {
     "name": "stdout",
     "output_type": "stream",
     "text": [
      "target= PT\n",
      "features dimension= (125, 18828)\n",
      "#selected features= 948\n",
      "########################################\n"
     ]
    },
    {
     "name": "stderr",
     "output_type": "stream",
     "text": [
      "C:\\Users\\mot16\\AppData\\Local\\Continuum\\Anaconda3\\lib\\site-packages\\sklearn\\feature_selection\\univariate_selection.py:113: UserWarning: Features [   11    18    21 ... 18767 18780 18783] are constant.\n",
      "  UserWarning)\n"
     ]
    }
   ],
   "source": [
    "selected_features = {}\n",
    "for label in labels:\n",
    "    \n",
    "    ## select rows where target is not null\n",
    "    mask = targets[label].notna().values\n",
    "    y = targets.loc[mask, label]\n",
    "    X = features.loc[mask, :].copy()\n",
    "  \n",
    "    ## drop all-null columns\n",
    "    X.dropna(axis=1, how='all', inplace=True)\n",
    "    \n",
    "    ## impute mising    \n",
    "    X = impute(X, method='mean')\n",
    "    \n",
    "    print('target=', label)\n",
    "    print('features dimension=', X.shape)\n",
    "    \n",
    "    ## ANOVA feature-selection\n",
    "    f, pval = f_classif(X, y)\n",
    "    f = pd.Series(f).replace([np.inf, -np.inf], np.nan)\n",
    "    pval[f.isna()] = np.nan\n",
    "    \n",
    "    ## select features with p-val<0.05\n",
    "    selected_features[label] = X.columns[pval < 0.05]\n",
    "    \n",
    "    print('#selected features=', selected_features[label].size)\n",
    "    print('#'*40)"
   ]
  },
  {
   "cell_type": "code",
   "execution_count": 243,
   "metadata": {
    "collapsed": false
   },
   "outputs": [],
   "source": [
    "union_selected_features = reduce(np.union1d, tuple([features.tolist() for _, features in selected_features.items()]))"
   ]
  },
  {
   "cell_type": "code",
   "execution_count": 250,
   "metadata": {
    "collapsed": false
   },
   "outputs": [
    {
     "data": {
      "text/plain": [
       "3476"
      ]
     },
     "execution_count": 250,
     "metadata": {},
     "output_type": "execute_result"
    }
   ],
   "source": [
    "union_selected_features.size"
   ]
  },
  {
   "cell_type": "code",
   "execution_count": 249,
   "metadata": {
    "collapsed": false
   },
   "outputs": [
    {
     "data": {
      "text/plain": [
       "array(['1/2 NS + KCL 20 mEq_med-ever_occurred',\n",
       "       '12/27-NH contacted to fax med list and l_med-days_since_first_value',\n",
       "       '12/27-NH contacted to fax med list and l_med-days_since_last_value',\n",
       "       '2/8/2011-MAR not sent from NH for last d_med-days_since_first_value',\n",
       "       '2/8/2011-MAR not sent from NH for last d_med-days_since_last_value',\n",
       "       '25HVD3_root-apex_value', '25HVD3_root-baseline_value',\n",
       "       '25HVD3_root-first_value', '25HVD3_root-last_value',\n",
       "       '25HVD3_root-nadir_value', '25HVDT_root-apex_value',\n",
       "       '25HVDT_root-baseline_value', '25HVDT_root-first_value',\n",
       "       '25HVDT_root-last_value', '25HVDT_root-nadir_value'], dtype='<U73')"
      ]
     },
     "execution_count": 249,
     "metadata": {},
     "output_type": "execute_result"
    }
   ],
   "source": [
    "union_selected_features[0:15]"
   ]
  },
  {
   "cell_type": "code",
   "execution_count": 263,
   "metadata": {
    "collapsed": false
   },
   "outputs": [
    {
     "data": {
      "text/plain": [
       "count    3476.000000\n",
       "mean      118.714902\n",
       "std        74.855172\n",
       "min         0.000000\n",
       "25%        18.000000\n",
       "50%       167.000000\n",
       "75%       177.000000\n",
       "max       177.000000\n",
       "dtype: float64"
      ]
     },
     "execution_count": 263,
     "metadata": {},
     "output_type": "execute_result"
    }
   ],
   "source": [
    "features.loc[: ,union_selected_features].isnull().sum().describe()"
   ]
  },
  {
   "cell_type": "code",
   "execution_count": 257,
   "metadata": {
    "collapsed": false
   },
   "outputs": [],
   "source": [
    "np.savetxt(out_file, union_selected_features, fmt='%s', delimiter=',')"
   ]
  },
  {
   "cell_type": "code",
   "execution_count": null,
   "metadata": {
    "collapsed": true
   },
   "outputs": [],
   "source": []
  }
 ],
 "metadata": {
  "anaconda-cloud": {},
  "kernelspec": {
   "display_name": "Python [Anaconda3]",
   "language": "python",
   "name": "Python [Anaconda3]"
  },
  "language_info": {
   "codemirror_mode": {
    "name": "ipython",
    "version": 3
   },
   "file_extension": ".py",
   "mimetype": "text/x-python",
   "name": "python",
   "nbconvert_exporter": "python",
   "pygments_lexer": "ipython3",
   "version": "3.5.5"
  }
 },
 "nbformat": 4,
 "nbformat_minor": 0
}
